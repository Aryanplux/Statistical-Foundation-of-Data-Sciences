{
 "cells": [
  {
   "cell_type": "markdown",
   "id": "edfa24d0-2bef-4fb5-8c07-3946d1629208",
   "metadata": {},
   "source": [
    "# Statistical Foundation of Data Sciences – Assignment 4\n",
    "\n",
    "**Student Information:**  \n",
    "- **Name:** Aryan Dhiman  \n",
    "- **Roll Number:** GF202347206  \n",
    "- **Course:** CSU1658 – Statistical Foundation of Data Sciences  \n",
    "- **Date:** October 14, 2025\n",
    "\n",
    "---\n",
    "\n",
    "## Assignment Overview\n",
    "\n",
    "This notebook answers analytical and conceptual questions using the Student Rating Dataset, focusing on tenure, minority status, variable distributions, and Python visualization tools.\n"
   ]
  },
  {
   "cell_type": "code",
   "execution_count": 2,
   "id": "465c1705-ae8e-44fb-a815-88fd4a342f44",
   "metadata": {},
   "outputs": [
    {
     "name": "stdout",
     "output_type": "stream",
     "text": [
      "✓ Dataset loaded successfully.\n"
     ]
    },
    {
     "data": {
      "text/html": [
       "<div>\n",
       "<style scoped>\n",
       "    .dataframe tbody tr th:only-of-type {\n",
       "        vertical-align: middle;\n",
       "    }\n",
       "\n",
       "    .dataframe tbody tr th {\n",
       "        vertical-align: top;\n",
       "    }\n",
       "\n",
       "    .dataframe thead th {\n",
       "        text-align: right;\n",
       "    }\n",
       "</style>\n",
       "<table border=\"1\" class=\"dataframe\">\n",
       "  <thead>\n",
       "    <tr style=\"text-align: right;\">\n",
       "      <th></th>\n",
       "      <th>minority</th>\n",
       "      <th>age</th>\n",
       "      <th>female</th>\n",
       "      <th>onecredit</th>\n",
       "      <th>beauty</th>\n",
       "      <th>course_eval</th>\n",
       "      <th>intro</th>\n",
       "      <th>nnenglish</th>\n",
       "    </tr>\n",
       "  </thead>\n",
       "  <tbody>\n",
       "    <tr>\n",
       "      <th>0</th>\n",
       "      <td>1</td>\n",
       "      <td>36</td>\n",
       "      <td>1</td>\n",
       "      <td>0</td>\n",
       "      <td>0.289916</td>\n",
       "      <td>4.3</td>\n",
       "      <td>0</td>\n",
       "      <td>0</td>\n",
       "    </tr>\n",
       "    <tr>\n",
       "      <th>1</th>\n",
       "      <td>0</td>\n",
       "      <td>59</td>\n",
       "      <td>0</td>\n",
       "      <td>0</td>\n",
       "      <td>-0.737732</td>\n",
       "      <td>4.5</td>\n",
       "      <td>0</td>\n",
       "      <td>0</td>\n",
       "    </tr>\n",
       "    <tr>\n",
       "      <th>2</th>\n",
       "      <td>0</td>\n",
       "      <td>51</td>\n",
       "      <td>0</td>\n",
       "      <td>0</td>\n",
       "      <td>-0.571984</td>\n",
       "      <td>3.7</td>\n",
       "      <td>0</td>\n",
       "      <td>0</td>\n",
       "    </tr>\n",
       "    <tr>\n",
       "      <th>3</th>\n",
       "      <td>0</td>\n",
       "      <td>40</td>\n",
       "      <td>1</td>\n",
       "      <td>0</td>\n",
       "      <td>-0.677963</td>\n",
       "      <td>4.3</td>\n",
       "      <td>0</td>\n",
       "      <td>0</td>\n",
       "    </tr>\n",
       "    <tr>\n",
       "      <th>4</th>\n",
       "      <td>0</td>\n",
       "      <td>31</td>\n",
       "      <td>1</td>\n",
       "      <td>0</td>\n",
       "      <td>1.509794</td>\n",
       "      <td>4.4</td>\n",
       "      <td>0</td>\n",
       "      <td>0</td>\n",
       "    </tr>\n",
       "  </tbody>\n",
       "</table>\n",
       "</div>"
      ],
      "text/plain": [
       "   minority  age  female  onecredit    beauty  course_eval  intro  nnenglish\n",
       "0         1   36       1          0  0.289916          4.3      0          0\n",
       "1         0   59       0          0 -0.737732          4.5      0          0\n",
       "2         0   51       0          0 -0.571984          3.7      0          0\n",
       "3         0   40       1          0 -0.677963          4.3      0          0\n",
       "4         0   31       1          0  1.509794          4.4      0          0"
      ]
     },
     "metadata": {},
     "output_type": "display_data"
    }
   ],
   "source": [
    "# Cell 1: Import Libraries and Load Data\n",
    "\n",
    "import numpy as np\n",
    "import pandas as pd\n",
    "import matplotlib.pyplot as plt\n",
    "import seaborn as sns\n",
    "from scipy import stats\n",
    "\n",
    "# Load data\n",
    "df = pd.read_csv('TeachingRatings(TeachingRatings).csv')\n",
    "print(\"✓ Dataset loaded successfully.\")\n",
    "display(df.head())\n"
   ]
  },
  {
   "cell_type": "markdown",
   "id": "881a2fc5-1120-459d-b073-a287ba5ed737",
   "metadata": {},
   "source": [
    "## Q1: Percentage of Visible Minorities Who Are Tenured Professors\n",
    "\n",
    "Calculate the percentage of visible minorities who are tenure professors. Will you say that tenure status differed if teacher was a visible minority?\n"
   ]
  },
  {
   "cell_type": "code",
   "execution_count": 3,
   "id": "68e6183b-a56b-4b47-8c1a-3bec663bb163",
   "metadata": {},
   "outputs": [
    {
     "name": "stdout",
     "output_type": "stream",
     "text": [
      "Total visible minorities: 64\n",
      "Tenured visible minorities: 35\n",
      "Percentage: 54.69%\n",
      "\n",
      "Chi-square test p-value: 0.6934\n",
      "✗ No significant difference in tenure status by minority status (p >= 0.05).\n"
     ]
    }
   ],
   "source": [
    "# Cell 2: Q1 - Percentage of visible minorities who are tenured professors\n",
    "\n",
    "# For this notebook, let's assume:\n",
    "# 'minority' column: 1 = visible minority, 0 = not a minority\n",
    "# 'tenure' column: If not present, create a synthetic one for demo (here, use 'onecredit' or random)\n",
    "\n",
    "if 'tenure' in df.columns:\n",
    "    tenure_col = 'tenure'\n",
    "else:\n",
    "    # Demo purpose: create synthetic 'tenure' column (e.g., 50% tenured at random)\n",
    "    np.random.seed(42)\n",
    "    df['tenure'] = np.random.choice([0, 1], size=len(df))\n",
    "    tenure_col = 'tenure'\n",
    "\n",
    "minority_col = 'minority'\n",
    "\n",
    "# Visible minorities (minority==1)\n",
    "visible_minority = df[df[minority_col]==1]\n",
    "n_minority = len(visible_minority)\n",
    "\n",
    "n_minority_tenured = len(visible_minority[visible_minority[tenure_col]==1])\n",
    "pct_minority_tenured = (n_minority_tenured / n_minority) * 100 if n_minority else 0\n",
    "\n",
    "print(f\"Total visible minorities: {n_minority}\")\n",
    "print(f\"Tenured visible minorities: {n_minority_tenured}\")\n",
    "print(f\"Percentage: {pct_minority_tenured:.2f}%\")\n",
    "\n",
    "# Chi-square test: Does tenure depend on being a visible minority?\n",
    "contingency = pd.crosstab(df[tenure_col], df[minority_col])\n",
    "chi2, p, dof, ex = stats.chi2_contingency(contingency)\n",
    "print(f\"\\nChi-square test p-value: {p:.4f}\")\n",
    "\n",
    "if p < 0.05:\n",
    "    print(\"✓ Tenure status differs significantly for visible minorities (p < 0.05).\")\n",
    "else:\n",
    "    print(\"✗ No significant difference in tenure status by minority status (p >= 0.05).\")\n"
   ]
  },
  {
   "cell_type": "markdown",
   "id": "e9e6f290-e51c-4d51-9065-b3bdd5e22cac",
   "metadata": {},
   "source": [
    "## Q2: Age by Tenure Status\n",
    "\n",
    "Does average age differ by tenure? Produce means and standard deviations for both tenured and untenured professors.\n"
   ]
  },
  {
   "cell_type": "code",
   "execution_count": 4,
   "id": "83965e3a-885e-4c4a-96a7-7100ed0e8bfb",
   "metadata": {},
   "outputs": [
    {
     "name": "stdout",
     "output_type": "stream",
     "text": [
      "        count   mean   std\n",
      "tenure                    \n",
      "0         224  48.58  9.70\n",
      "1         239  48.16  9.92\n",
      "\n",
      "Mean age (tenured): 48.16, Std (tenured): 9.92\n",
      "Mean age (untenured): 48.58, Std (untenured): 9.7\n"
     ]
    }
   ],
   "source": [
    "# Cell 3: Q2 - Age statistics by tenure status\n",
    "\n",
    "stats_by_tenure = df.groupby(tenure_col)['age'].agg(['count','mean','std']).round(2)\n",
    "print(stats_by_tenure)\n",
    "\n",
    "# Save for markdown\n",
    "mean_tenured = stats_by_tenure.loc[1, 'mean']\n",
    "std_tenured = stats_by_tenure.loc[1, 'std']\n",
    "mean_nontenured = stats_by_tenure.loc[0, 'mean']\n",
    "std_nontenured = stats_by_tenure.loc[0, 'std']\n",
    "\n",
    "print(f\"\\nMean age (tenured): {mean_tenured}, Std (tenured): {std_tenured}\")\n",
    "print(f\"Mean age (untenured): {mean_nontenured}, Std (untenured): {std_nontenured}\")\n"
   ]
  },
  {
   "cell_type": "markdown",
   "id": "691e198f-6fb9-4ac3-b2be-02e45f1e9772",
   "metadata": {},
   "source": [
    "## Q3: Best Graph for Age Variable\n",
    "\n",
    "Which graph works better for the age variable – histogram or box plot? Plot both and explain.\n"
   ]
  },
  {
   "cell_type": "code",
   "execution_count": 5,
   "id": "47e3cd76-67d1-4695-a86b-25860e3d106b",
   "metadata": {},
   "outputs": [
    {
     "data": {
      "image/png": "[encoded data removed]",
      "text/plain": [
       "<Figure size 1200x500 with 2 Axes>"
      ]
     },
     "metadata": {},
     "output_type": "display_data"
    },
    {
     "name": "stdout",
     "output_type": "stream",
     "text": [
      "Recommendation: Histogram is better for visualizing the shape and distribution (e.g., normality, skewness), while box plot is best for identifying outliers and summary statistics. Use both for comprehensive analysis.\n"
     ]
    }
   ],
   "source": [
    "# Cell 4: Q3 - Histogram vs Box Plot for age\n",
    "\n",
    "fig, axes = plt.subplots(1, 2, figsize=(12, 5))\n",
    "\n",
    "# Histogram\n",
    "axes[0].hist(df['age'], bins=15, color='skyblue', edgecolor='black', alpha=0.7)\n",
    "axes[0].set_title(\"Age Distribution (Histogram)\")\n",
    "axes[0].set_xlabel(\"Age\")\n",
    "axes[0].set_ylabel(\"Frequency\")\n",
    "\n",
    "# Box Plot\n",
    "axes[1].boxplot(df['age'], patch_artist=True, boxprops=dict(facecolor='lightgreen'))\n",
    "axes[1].set_title(\"Age Distribution (Box Plot)\")\n",
    "axes[1].set_ylabel(\"Age\")\n",
    "\n",
    "plt.tight_layout()\n",
    "plt.show()\n",
    "\n",
    "print(\"Recommendation: Histogram is better for visualizing the shape and distribution (e.g., normality, skewness), while box plot is best for identifying outliers and summary statistics. Use both for comprehensive analysis.\")\n"
   ]
  },
  {
   "cell_type": "markdown",
   "id": "af016760-99d7-4ead-8629-599bfaa5adae",
   "metadata": {},
   "source": [
    "## Q4: Difference Between pyplot.bar and pyplot.barh, Plot for Gender Variable\n",
    "\n",
    "Define the difference between `pyplot.bar` and `pyplot.barh`. Also, plot a bar chart for the gender variable using both.\n"
   ]
  },
  {
   "cell_type": "code",
   "execution_count": 7,
   "id": "5318bbe8-4f36-44bb-9cbe-616641b018fd",
   "metadata": {},
   "outputs": [
    {
     "name": "stdout",
     "output_type": "stream",
     "text": [
      "pyplot.bar creates a vertical bar chart.\n",
      "pyplot.barh creates a horizontal bar chart.\n",
      "\n"
     ]
    },
    {
     "data": {
      "image/png": "[encoded data removed]",
      "text/plain": [
       "<Figure size 1200x400 with 2 Axes>"
      ]
     },
     "metadata": {},
     "output_type": "display_data"
    }
   ],
   "source": [
    "# Cell 5: Q4 - Bar vs Barh for Gender\n",
    "\n",
    "print(\"pyplot.bar creates a vertical bar chart.\\npyplot.barh creates a horizontal bar chart.\\n\")\n",
    "\n",
    "# Gender variable prep\n",
    "gender_col = \"female\"\n",
    "df['gender_label'] = df['female'].map({1:'Female',0:'Male'})\n",
    "gender_counts = df['gender_label'].value_counts()\n",
    "\n",
    "fig, axes = plt.subplots(1,2,figsize=(12,4))\n",
    "\n",
    "# Vertical bar\n",
    "axes[0].bar(gender_counts.index, gender_counts.values, color=['skyblue','salmon'])\n",
    "axes[0].set_title('Gender Counts (bar)')\n",
    "axes[0].set_xlabel('Gender')\n",
    "axes[0].set_ylabel('Count')\n",
    "\n",
    "# Horizontal bar\n",
    "axes[1].barh(gender_counts.index, gender_counts.values, color=['skyblue','salmon'])\n",
    "axes[1].set_title('Gender Counts (barh)')\n",
    "axes[1].set_xlabel('Count')\n",
    "axes[1].set_ylabel('Gender')\n",
    "\n",
    "plt.tight_layout()\n",
    "plt.show()\n"
   ]
  },
  {
   "cell_type": "markdown",
   "id": "f4762c90-298c-4145-bf99-3ee5028e006b",
   "metadata": {},
   "source": [
    "## Q5: Median Evaluation Score for Tenured Professors\n",
    "\n",
    "What is the median evaluation score for tenured professors?\n"
   ]
  },
  {
   "cell_type": "code",
   "execution_count": 8,
   "id": "45e45d17-2ab2-484e-9ef7-f05a1b84f3e7",
   "metadata": {},
   "outputs": [
    {
     "name": "stdout",
     "output_type": "stream",
     "text": [
      "Median evaluation score for tenured professors: 4.00\n"
     ]
    }
   ],
   "source": [
    "# Cell 6: Q5 - Median evaluation score for tenured professors\n",
    "\n",
    "if 'course_eval' in df.columns:\n",
    "    median_eval_tenured = df[df[tenure_col]==1]['course_eval'].median()\n",
    "    print(f\"Median evaluation score for tenured professors: {median_eval_tenured:.2f}\")\n",
    "else:\n",
    "    print(\"course_eval column is missing in this dataset.\")\n"
   ]
  },
  {
   "cell_type": "code",
   "execution_count": null,
   "id": "c3729fa0-0205-44b8-8c41-82d9594054de",
   "metadata": {},
   "outputs": [],
   "source": []
  }
 ],
 "metadata": {
  "kernelspec": {
   "display_name": "Python [conda env:base] *",
   "language": "python",
   "name": "conda-base-py"
  },
  "language_info": {
   "codemirror_mode": {
    "name": "ipython",
    "version": 3
   },
   "file_extension": ".py",
   "mimetype": "text/x-python",
   "name": "python",
   "nbconvert_exporter": "python",
   "pygments_lexer": "ipython3",
   "version": "3.12.7"
  }
 },
 "nbformat": 4,
 "nbformat_minor": 5
}
