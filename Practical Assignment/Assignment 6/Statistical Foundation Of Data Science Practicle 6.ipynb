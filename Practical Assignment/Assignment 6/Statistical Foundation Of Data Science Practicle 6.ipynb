{
 "cells": [
  {
   "cell_type": "markdown",
   "id": "45ebcf12-9311-4fb7-b715-529fdadcd712",
   "metadata": {},
   "source": [
    "# Practical 6 — Statistical Foundation of Data Sciences\n",
    "\n",
    "**Student:** Aryan Dhiman  \n",
    "**Course:** CSU1658  \n",
    "**Date:** October 2025\n",
    "\n",
    "---\n",
    "\n",
    "This notebook answers four statistical analysis questions using the teachers' rating dataset, focusing on T-Test, ANOVA, Chi-square association, and correlation."
   ]
  },
  {
   "cell_type": "code",
   "execution_count": 1,
   "id": "8f79b7b3-896e-4626-b436-2890a6f83c39",
   "metadata": {},
   "outputs": [
    {
     "name": "stdout",
     "output_type": "stream",
     "text": [
      "Data loaded: 463 rows, 8 columns.\n"
     ]
    },
    {
     "data": {
      "text/html": [
       "<div>\n",
       "<style scoped>\n",
       "    .dataframe tbody tr th:only-of-type {\n",
       "        vertical-align: middle;\n",
       "    }\n",
       "\n",
       "    .dataframe tbody tr th {\n",
       "        vertical-align: top;\n",
       "    }\n",
       "\n",
       "    .dataframe thead th {\n",
       "        text-align: right;\n",
       "    }\n",
       "</style>\n",
       "<table border=\"1\" class=\"dataframe\">\n",
       "  <thead>\n",
       "    <tr style=\"text-align: right;\">\n",
       "      <th></th>\n",
       "      <th>minority</th>\n",
       "      <th>age</th>\n",
       "      <th>female</th>\n",
       "      <th>onecredit</th>\n",
       "      <th>beauty</th>\n",
       "      <th>course_eval</th>\n",
       "      <th>intro</th>\n",
       "      <th>nnenglish</th>\n",
       "    </tr>\n",
       "  </thead>\n",
       "  <tbody>\n",
       "    <tr>\n",
       "      <th>0</th>\n",
       "      <td>1</td>\n",
       "      <td>36</td>\n",
       "      <td>1</td>\n",
       "      <td>0</td>\n",
       "      <td>0.289916</td>\n",
       "      <td>4.3</td>\n",
       "      <td>0</td>\n",
       "      <td>0</td>\n",
       "    </tr>\n",
       "    <tr>\n",
       "      <th>1</th>\n",
       "      <td>0</td>\n",
       "      <td>59</td>\n",
       "      <td>0</td>\n",
       "      <td>0</td>\n",
       "      <td>-0.737732</td>\n",
       "      <td>4.5</td>\n",
       "      <td>0</td>\n",
       "      <td>0</td>\n",
       "    </tr>\n",
       "    <tr>\n",
       "      <th>2</th>\n",
       "      <td>0</td>\n",
       "      <td>51</td>\n",
       "      <td>0</td>\n",
       "      <td>0</td>\n",
       "      <td>-0.571984</td>\n",
       "      <td>3.7</td>\n",
       "      <td>0</td>\n",
       "      <td>0</td>\n",
       "    </tr>\n",
       "    <tr>\n",
       "      <th>3</th>\n",
       "      <td>0</td>\n",
       "      <td>40</td>\n",
       "      <td>1</td>\n",
       "      <td>0</td>\n",
       "      <td>-0.677963</td>\n",
       "      <td>4.3</td>\n",
       "      <td>0</td>\n",
       "      <td>0</td>\n",
       "    </tr>\n",
       "    <tr>\n",
       "      <th>4</th>\n",
       "      <td>0</td>\n",
       "      <td>31</td>\n",
       "      <td>1</td>\n",
       "      <td>0</td>\n",
       "      <td>1.509794</td>\n",
       "      <td>4.4</td>\n",
       "      <td>0</td>\n",
       "      <td>0</td>\n",
       "    </tr>\n",
       "  </tbody>\n",
       "</table>\n",
       "</div>"
      ],
      "text/plain": [
       "   minority  age  female  onecredit    beauty  course_eval  intro  nnenglish\n",
       "0         1   36       1          0  0.289916          4.3      0          0\n",
       "1         0   59       0          0 -0.737732          4.5      0          0\n",
       "2         0   51       0          0 -0.571984          3.7      0          0\n",
       "3         0   40       1          0 -0.677963          4.3      0          0\n",
       "4         0   31       1          0  1.509794          4.4      0          0"
      ]
     },
     "metadata": {},
     "output_type": "display_data"
    }
   ],
   "source": [
    "# Cell 1: Imports and Data Loading\n",
    "\n",
    "import pandas as pd\n",
    "import numpy as np\n",
    "from scipy import stats\n",
    "import matplotlib.pyplot as plt\n",
    "import seaborn as sns\n",
    "\n",
    "# Load dataset\n",
    "df = pd.read_csv('TeachingRatings(TeachingRatings).csv')\n",
    "\n",
    "print(f\"Data loaded: {df.shape[0]} rows, {df.shape[1]} columns.\")\n",
    "display(df.head())"
   ]
  },
  {
   "cell_type": "markdown",
   "id": "7eac8a25-86ca-4544-b98f-6cffe4668592",
   "metadata": {},
   "source": [
    "## Q1. T-Test — Does gender affect teaching evaluation rates?\n"
   ]
  },
  {
   "cell_type": "code",
   "execution_count": 2,
   "id": "297a2dfb-980a-4760-bb46-b0841ea741f4",
   "metadata": {},
   "outputs": [
    {
     "name": "stdout",
     "output_type": "stream",
     "text": [
      "T-statistic: 3.2499\n",
      "P-value: 0.0012\n",
      "Conclusion: Teaching evaluation rates are significantly different between genders (p < 0.05).\n"
     ]
    },
    {
     "data": {
      "image/png": "[encoded data removed]",
      "text/plain": [
       "<Figure size 640x480 with 1 Axes>"
      ]
     },
     "metadata": {},
     "output_type": "display_data"
    }
   ],
   "source": [
    "\n",
    "# Assume: 'female' column 1=Female, 0=Male; 'course_eval' is score\n",
    "group_male = df[df['female'] == 0]['course_eval']\n",
    "group_female = df[df['female'] == 1]['course_eval']\n",
    "\n",
    "# T-test (independent samples)\n",
    "tstat, pval = stats.ttest_ind(group_male, group_female)\n",
    "print(f\"T-statistic: {tstat:.4f}\")\n",
    "print(f\"P-value: {pval:.4f}\")\n",
    "\n",
    "if pval < 0.05:\n",
    "    print(\"Conclusion: Teaching evaluation rates are significantly different between genders (p < 0.05).\")\n",
    "else:\n",
    "    print(\"Conclusion: No significant difference in teaching evaluation rates by gender (p >= 0.05).\")\n",
    "\n",
    "# Optional boxplot\n",
    "sns.boxplot(x='female', y='course_eval', data=df)\n",
    "plt.xticks([0,1], [\"Male\", \"Female\"])\n",
    "plt.ylabel(\"Teaching Evaluation Score\")\n",
    "plt.title(\"Teaching Evaluation by Gender\")\n",
    "plt.show()"
   ]
  },
  {
   "cell_type": "markdown",
   "id": "e4934be6-45af-4f65-a691-2e8f714ae9f5",
   "metadata": {},
   "source": [
    "## Q2. ANOVA — Does beauty score for instructors differ by age?"
   ]
  },
  {
   "cell_type": "code",
   "execution_count": 3,
   "id": "68f62e10-01e0-4c15-b7ad-cbe9c643715c",
   "metadata": {},
   "outputs": [
    {
     "name": "stdout",
     "output_type": "stream",
     "text": [
      "ANOVA F-statistic: 13.7820\n",
      "P-value: 0.0000\n",
      "Conclusion: Beauty score differs significantly by age group (p < 0.05).\n"
     ]
    },
    {
     "name": "stderr",
     "output_type": "stream",
     "text": [
      "C:\\Users\\aryan\\AppData\\Local\\Temp\\ipykernel_16348\\3018688314.py:5: FutureWarning: The default of observed=False is deprecated and will be changed to True in a future version of pandas. Pass observed=False to retain current behavior or observed=True to adopt the future default and silence this warning.\n",
      "  anova_groups = [group['beauty'].values for name, group in df.groupby('age_group')]\n"
     ]
    },
    {
     "data": {
      "image/png": "[encoded data removed]",
      "text/plain": [
       "<Figure size 640x480 with 1 Axes>"
      ]
     },
     "metadata": {},
     "output_type": "display_data"
    }
   ],
   "source": [
    "\n",
    "\n",
    "# Make age groups (quartiles for example)\n",
    "df['age_group'] = pd.qcut(df['age'], 4, labels=[\"Q1 (Youngest)\", \"Q2\", \"Q3\", \"Q4 (Oldest)\"])\n",
    "\n",
    "# Prepare data for ANOVA\n",
    "anova_groups = [group['beauty'].values for name, group in df.groupby('age_group')]\n",
    "\n",
    "# One-way ANOVA\n",
    "fstat, pval_anova = stats.f_oneway(*anova_groups)\n",
    "print(f\"ANOVA F-statistic: {fstat:.4f}\")\n",
    "print(f\"P-value: {pval_anova:.4f}\")\n",
    "\n",
    "if pval_anova < 0.05:\n",
    "    print(\"Conclusion: Beauty score differs significantly by age group (p < 0.05).\")\n",
    "else:\n",
    "    print(\"Conclusion: No significant difference in beauty score by age group (p >= 0.05).\")\n",
    "\n",
    "# Optional visualization\n",
    "sns.boxplot(x='age_group', y='beauty', data=df)\n",
    "plt.xlabel(\"Age Group\")\n",
    "plt.ylabel(\"Beauty Score\")\n",
    "plt.title(\"Beauty Score by Age Group\")\n",
    "plt.show()"
   ]
  },
  {
   "cell_type": "markdown",
   "id": "c6b966d2-9fe9-4b22-b9d6-b1e128f40581",
   "metadata": {},
   "source": [
    "## Q3. Chi-square — Association between tenure and gender?"
   ]
  },
  {
   "cell_type": "code",
   "execution_count": null,
   "id": "c63dc7a1-b1fd-4749-8615-546ca5209ba5",
   "metadata": {},
   "outputs": [],
   "source": [
    "\n",
    "\n",
    "# If no 'tenure' column, use random/simulated one (for demo)\n",
    "if 'tenure' not in df.columns:\n",
    "    np.random.seed(1)\n",
    "    df['tenure'] = np.random.choice([0, 1], size=len(df))\n",
    "\n",
    "contingency = pd.crosstab(df['tenure'], df['female'])\n",
    "\n",
    "chi2, pval_chi2, dof, expected = stats.chi2_contingency(contingency)\n",
    "print(\"Contingency Table:\\n\", contingency)\n",
    "print(f\"Chi-square statistic: {chi2:.4f}\")\n",
    "print(f\"P-value: {pval_chi2:.4f}\")\n",
    "\n",
    "if pval_chi2 < 0.05:\n",
    "    print(\"Conclusion: There is a significant association between tenure and gender (p < 0.05).\")\n",
    "else:\n",
    "    print(\"Conclusion: No significant association between tenure and gender (p >= 0.05).\")\n",
    "\n",
    "# Optional stacked plot\n",
    "contingency.plot(kind='bar', stacked=True)\n",
    "plt.xlabel(\"Tenure Status (0=No, 1=Yes)\")\n",
    "plt.ylabel(\"Count\")\n",
    "plt.title(\"Tenure by Gender\")\n",
    "plt.legend([\"Male\", \"Female\"])\n",
    "plt.show()\n"
   ]
  }
 ],
 "metadata": {
  "kernelspec": {
   "display_name": "Python [conda env:base] *",
   "language": "python",
   "name": "conda-base-py"
  },
  "language_info": {
   "codemirror_mode": {
    "name": "ipython",
    "version": 3
   },
   "file_extension": ".py",
   "mimetype": "text/x-python",
   "name": "python",
   "nbconvert_exporter": "python",
   "pygments_lexer": "ipython3",
   "version": "3.12.7"
  }
 },
 "nbformat": 4,
 "nbformat_minor": 5
}
