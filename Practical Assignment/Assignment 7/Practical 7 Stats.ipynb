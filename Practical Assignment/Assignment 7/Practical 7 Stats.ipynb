{
 "cells": [
  {
   "cell_type": "markdown",
   "id": "ac5654bf-26ae-4015-98fd-1ffcf5b9c0bb",
   "metadata": {},
   "source": [
    "# Practical 7 — Statistical Foundation of Data Sciences\n",
    "\n",
    "**Student:** Aryan Dhiman  \n",
    "**Course:** CSU1658  \n",
    "**Date:** October 2025\n",
    "\n",
    "---\n",
    "\n",
    "## Overview\n",
    "\n",
    "This notebook uses the teachers’ rating dataset to answer three regression and analysis questions:  \n",
    "- Regression with T-test: Gender effect on teaching evaluation  \n",
    "- Regression with ANOVA: Beauty score differences by age  \n",
    "- Correlation/regression: Evaluation score vs beauty score\n"
   ]
  },
  {
   "cell_type": "code",
   "execution_count": 1,
   "id": "c4e84289-3a4b-467f-9829-deff1bc5aa71",
   "metadata": {},
   "outputs": [
    {
     "name": "stdout",
     "output_type": "stream",
     "text": [
      "Dataset loaded: 463 rows\n"
     ]
    },
    {
     "data": {
      "text/html": [
       "<div>\n",
       "<style scoped>\n",
       "    .dataframe tbody tr th:only-of-type {\n",
       "        vertical-align: middle;\n",
       "    }\n",
       "\n",
       "    .dataframe tbody tr th {\n",
       "        vertical-align: top;\n",
       "    }\n",
       "\n",
       "    .dataframe thead th {\n",
       "        text-align: right;\n",
       "    }\n",
       "</style>\n",
       "<table border=\"1\" class=\"dataframe\">\n",
       "  <thead>\n",
       "    <tr style=\"text-align: right;\">\n",
       "      <th></th>\n",
       "      <th>minority</th>\n",
       "      <th>age</th>\n",
       "      <th>female</th>\n",
       "      <th>onecredit</th>\n",
       "      <th>beauty</th>\n",
       "      <th>course_eval</th>\n",
       "      <th>intro</th>\n",
       "      <th>nnenglish</th>\n",
       "    </tr>\n",
       "  </thead>\n",
       "  <tbody>\n",
       "    <tr>\n",
       "      <th>0</th>\n",
       "      <td>1</td>\n",
       "      <td>36</td>\n",
       "      <td>1</td>\n",
       "      <td>0</td>\n",
       "      <td>0.289916</td>\n",
       "      <td>4.3</td>\n",
       "      <td>0</td>\n",
       "      <td>0</td>\n",
       "    </tr>\n",
       "    <tr>\n",
       "      <th>1</th>\n",
       "      <td>0</td>\n",
       "      <td>59</td>\n",
       "      <td>0</td>\n",
       "      <td>0</td>\n",
       "      <td>-0.737732</td>\n",
       "      <td>4.5</td>\n",
       "      <td>0</td>\n",
       "      <td>0</td>\n",
       "    </tr>\n",
       "    <tr>\n",
       "      <th>2</th>\n",
       "      <td>0</td>\n",
       "      <td>51</td>\n",
       "      <td>0</td>\n",
       "      <td>0</td>\n",
       "      <td>-0.571984</td>\n",
       "      <td>3.7</td>\n",
       "      <td>0</td>\n",
       "      <td>0</td>\n",
       "    </tr>\n",
       "    <tr>\n",
       "      <th>3</th>\n",
       "      <td>0</td>\n",
       "      <td>40</td>\n",
       "      <td>1</td>\n",
       "      <td>0</td>\n",
       "      <td>-0.677963</td>\n",
       "      <td>4.3</td>\n",
       "      <td>0</td>\n",
       "      <td>0</td>\n",
       "    </tr>\n",
       "    <tr>\n",
       "      <th>4</th>\n",
       "      <td>0</td>\n",
       "      <td>31</td>\n",
       "      <td>1</td>\n",
       "      <td>0</td>\n",
       "      <td>1.509794</td>\n",
       "      <td>4.4</td>\n",
       "      <td>0</td>\n",
       "      <td>0</td>\n",
       "    </tr>\n",
       "  </tbody>\n",
       "</table>\n",
       "</div>"
      ],
      "text/plain": [
       "   minority  age  female  onecredit    beauty  course_eval  intro  nnenglish\n",
       "0         1   36       1          0  0.289916          4.3      0          0\n",
       "1         0   59       0          0 -0.737732          4.5      0          0\n",
       "2         0   51       0          0 -0.571984          3.7      0          0\n",
       "3         0   40       1          0 -0.677963          4.3      0          0\n",
       "4         0   31       1          0  1.509794          4.4      0          0"
      ]
     },
     "metadata": {},
     "output_type": "display_data"
    }
   ],
   "source": [
    "\n",
    "import pandas as pd\n",
    "import numpy as np\n",
    "import statsmodels.api as sm\n",
    "import statsmodels.formula.api as smf\n",
    "from statsmodels.stats.anova import anova_lm\n",
    "import matplotlib.pyplot as plt\n",
    "import seaborn as sns\n",
    "\n",
    "# Load dataset\n",
    "df = pd.read_csv('TeachingRatings(TeachingRatings).csv')\n",
    "\n",
    "print(f\"Dataset loaded: {df.shape[0]} rows\")\n",
    "display(df.head())\n"
   ]
  },
  {
   "cell_type": "markdown",
   "id": "d7bbd90a-4112-4c39-9e76-ebe3a5dc7ac6",
   "metadata": {},
   "source": [
    "## Q1. Regression with T-test: Does gender affect teaching evaluation rates?\n"
   ]
  },
  {
   "cell_type": "code",
   "execution_count": 2,
   "id": "564bf49c-cf57-4f19-8a21-48a8ed162b6d",
   "metadata": {},
   "outputs": [
    {
     "name": "stdout",
     "output_type": "stream",
     "text": [
      "                            OLS Regression Results                            \n",
      "==============================================================================\n",
      "Dep. Variable:            course_eval   R-squared:                       0.022\n",
      "Model:                            OLS   Adj. R-squared:                  0.020\n",
      "Method:                 Least Squares   F-statistic:                     10.56\n",
      "Date:                Tue, 28 Oct 2025   Prob (F-statistic):            0.00124\n",
      "Time:                        15:20:48   Log-Likelihood:                -378.50\n",
      "No. Observations:                 463   AIC:                             761.0\n",
      "Df Residuals:                     461   BIC:                             769.3\n",
      "Df Model:                           1                                         \n",
      "Covariance Type:            nonrobust                                         \n",
      "==============================================================================\n",
      "                 coef    std err          t      P>|t|      [0.025      0.975]\n",
      "------------------------------------------------------------------------------\n",
      "Intercept      4.0690      0.034    121.288      0.000       4.003       4.135\n",
      "female        -0.1680      0.052     -3.250      0.001      -0.270      -0.066\n",
      "==============================================================================\n",
      "Omnibus:                       17.625   Durbin-Watson:                   1.368\n",
      "Prob(Omnibus):                  0.000   Jarque-Bera (JB):               18.970\n",
      "Skew:                          -0.496   Prob(JB):                     7.60e-05\n",
      "Kurtosis:                       2.981   Cond. No.                         2.47\n",
      "==============================================================================\n",
      "\n",
      "Notes:\n",
      "[1] Standard Errors assume that the covariance matrix of the errors is correctly specified.\n"
     ]
    }
   ],
   "source": [
    "\n",
    "model_1 = smf.ols('course_eval ~ female', data=df).fit()\n",
    "print(model_1.summary())\n"
   ]
  },
  {
   "cell_type": "markdown",
   "id": "cd94137b-cbb3-4383-a93a-84e51218bb2b",
   "metadata": {},
   "source": [
    "## Q2. Regression with ANOVA: Does beauty score for instructors differ by age?\n"
   ]
  },
  {
   "cell_type": "code",
   "execution_count": 3,
   "id": "37ad3e9b-f07e-495b-95d0-bfc3c8edcf30",
   "metadata": {},
   "outputs": [
    {
     "name": "stdout",
     "output_type": "stream",
     "text": [
      "               sum_sq     df          F    PR(>F)\n",
      "age_group   15.982491    2.0  13.546211  0.000002\n",
      "Residual   271.365405  460.0        NaN       NaN\n"
     ]
    }
   ],
   "source": [
    "\n",
    "df['age_group'] = pd.qcut(df['age'], 3, labels=[\"Young\", \"Middle\", \"Old\"])\n",
    "\n",
    "import statsmodels.api as sm\n",
    "from statsmodels.formula.api import ols\n",
    "\n",
    "anova_model = ols('beauty ~ age_group', data=df).fit()\n",
    "anova_results = sm.stats.anova_lm(anova_model, typ=2)\n",
    "print(anova_results)\n"
   ]
  },
  {
   "cell_type": "markdown",
   "id": "7ecfe2f0-4664-4db5-a282-59548e042161",
   "metadata": {},
   "source": [
    "## Q3. Correlation: Is teaching evaluation score correlated with beauty score?\n",
    "### Check using OLS regression and report.\n"
   ]
  },
  {
   "cell_type": "code",
   "execution_count": 4,
   "id": "ca679091-fe49-4924-a5c2-ef750636044f",
   "metadata": {},
   "outputs": [
    {
     "name": "stdout",
     "output_type": "stream",
     "text": [
      "                            OLS Regression Results                            \n",
      "==============================================================================\n",
      "Dep. Variable:            course_eval   R-squared:                       0.036\n",
      "Model:                            OLS   Adj. R-squared:                  0.034\n",
      "Method:                 Least Squares   F-statistic:                     17.08\n",
      "Date:                Tue, 28 Oct 2025   Prob (F-statistic):           4.25e-05\n",
      "Time:                        15:21:52   Log-Likelihood:                -375.32\n",
      "No. Observations:                 463   AIC:                             754.6\n",
      "Df Residuals:                     461   BIC:                             762.9\n",
      "Df Model:                           1                                         \n",
      "Covariance Type:            nonrobust                                         \n",
      "==============================================================================\n",
      "                 coef    std err          t      P>|t|      [0.025      0.975]\n",
      "------------------------------------------------------------------------------\n",
      "Intercept      3.9983      0.025    157.727      0.000       3.948       4.048\n",
      "beauty         0.1330      0.032      4.133      0.000       0.070       0.196\n",
      "==============================================================================\n",
      "Omnibus:                       15.399   Durbin-Watson:                   1.410\n",
      "Prob(Omnibus):                  0.000   Jarque-Bera (JB):               16.405\n",
      "Skew:                          -0.453   Prob(JB):                     0.000274\n",
      "Kurtosis:                       2.831   Cond. No.                         1.27\n",
      "==============================================================================\n",
      "\n",
      "Notes:\n",
      "[1] Standard Errors assume that the covariance matrix of the errors is correctly specified.\n"
     ]
    }
   ],
   "source": [
    "\n",
    "model_2 = smf.ols('course_eval ~ beauty', data=df).fit()\n",
    "print(model_2.summary())\n"
   ]
  },
  {
   "cell_type": "code",
   "execution_count": null,
   "id": "1d09fa2e-1c2c-4d53-8eb5-9f7704b7ed73",
   "metadata": {},
   "outputs": [],
   "source": []
  }
 ],
 "metadata": {
  "kernelspec": {
   "display_name": "Python [conda env:base] *",
   "language": "python",
   "name": "conda-base-py"
  },
  "language_info": {
   "codemirror_mode": {
    "name": "ipython",
    "version": 3
   },
   "file_extension": ".py",
   "mimetype": "text/x-python",
   "name": "python",
   "nbconvert_exporter": "python",
   "pygments_lexer": "ipython3",
   "version": "3.12.7"
  }
 },
 "nbformat": 4,
 "nbformat_minor": 5
}
